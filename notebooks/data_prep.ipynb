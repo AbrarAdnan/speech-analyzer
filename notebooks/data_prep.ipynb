{
 "cells": [
  {
   "cell_type": "code",
   "execution_count": 1,
   "id": "4ee034b4",
   "metadata": {},
   "outputs": [],
   "source": [
    "import cv2\n",
    "import os\n",
    "from PIL import Image\n",
    "import face_recognition\n",
    "from tqdm import tqdm_notebook\n",
    "import string\n",
    "import pytube"
   ]
  },
  {
   "cell_type": "code",
   "execution_count": 2,
   "id": "5a39cab8",
   "metadata": {},
   "outputs": [],
   "source": [
    "def show_progress_bar(stream, chunk, bytes_remaining):\n",
    "    # Calculate the percentage of the file that has been downloaded\n",
    "    percent = (100 * (stream.filesize - bytes_remaining)) / stream.filesize\n",
    "    # Print the progress bar\n",
    "    print(f\"Downloading...{percent:.2f}% done\")\n",
    "    \n",
    "def clean_filename(filename):\n",
    "    # Replace any invalid characters with underscores\n",
    "    valid_chars = \"-_.() %s%s\" % (string.ascii_letters, string.digits)\n",
    "    cleaned_filename = ''.join(c if c in valid_chars else '_' for c in filename)\n",
    "    return cleaned_filename"
   ]
  },
  {
   "cell_type": "code",
   "execution_count": 3,
   "id": "5c3807f8",
   "metadata": {},
   "outputs": [
    {
     "name": "stdout",
     "output_type": "stream",
     "text": [
      "C:\\Users\\Adnan\\Desktop\\Data Science\\Final Capstone Project\n"
     ]
    }
   ],
   "source": [
    "cd .."
   ]
  },
  {
   "cell_type": "code",
   "execution_count": 7,
   "id": "c5d1bc7e",
   "metadata": {},
   "outputs": [
    {
     "name": "stdout",
     "output_type": "stream",
     "text": [
      "Dr. Dre - The Next Episode (Official Music Video) ft. Snoop Dogg_ Kurupt_ Nate Dogg\n",
      "The Weeknd - Starboy ft. Daft Punk (Official Video)\n",
      "The Notorious B.I.G. - Juicy (Official Video) _4K_\n",
      "Downloading...24.75% done\n",
      "Downloading...49.50% done\n",
      "Downloading...74.24% done\n",
      "Downloading...98.99% done\n",
      "Downloading...100.00% done\n"
     ]
    }
   ],
   "source": [
    "# List of YouTube video URLs\n",
    "urls = [\n",
    "    \"https://www.youtube.com/watch?v=QZXc39hT8t4\",\n",
    "    \"https://www.youtube.com/watch?v=34Na4j8AVgA\",\n",
    "    \"https://www.youtube.com/watch?v=_JZom_gVfuw\"\n",
    "]\n",
    "\n",
    "for url in urls:\n",
    "    video = pytube.YouTube(url,on_progress_callback=show_progress_bar)\n",
    "    title = clean_filename(video.title)\n",
    "    print(title)\n",
    "    stream = video.streams.get_highest_resolution()\n",
    "    stream.download(output_path='source_videos',filename=f\"{title}.mp4\")"
   ]
  },
  {
   "cell_type": "code",
   "execution_count": null,
   "id": "e233a6e6",
   "metadata": {},
   "outputs": [],
   "source": [
    "# Replace the playlist URL with your own playlist URL\n",
    "playlist_url = \"https://www.youtube.com/playlist?list=PL1tiwbzkOjQxD0jjAE7PsWoaCrs0EkBH2\"\n",
    "\n",
    "# Create a YouTube playlist object\n",
    "playlist = pytube.Playlist(playlist_url)\n",
    "\n",
    "# Iterate over each video in the playlist\n",
    "for url in playlist.video_urls:\n",
    "    # Create a YouTube video object\n",
    "    video = pytube.YouTube(url,on_progress_callback=show_progress_bar)\n",
    "    title = clean_filename(video.title)\n",
    "    print(title)\n",
    "    stream = video.streams.get_highest_resolution()\n",
    "    stream.download(output_path='source_videos',filename=f\"{title}.mp4\")"
   ]
  },
  {
   "cell_type": "code",
   "execution_count": 4,
   "id": "d8eea104",
   "metadata": {},
   "outputs": [],
   "source": [
    "# Open the video file\n",
    "video_capture = cv2.VideoCapture('source_videos/A Really Wrinkly Egg.mp4')\n",
    "count = 18638\n",
    "output_dir = \"face_images\"\n",
    "if not os.path.exists(output_dir):\n",
    "    os.makedirs(output_dir)\n",
    "# Get the total number of frames in the video\n",
    "total_frames = int(video_capture.get(cv2.CAP_PROP_FRAME_COUNT))\n",
    "\n",
    "# Loop through the frames of the video\n",
    "while True:\n",
    "    # Read a single frame from the video\n",
    "    for i in range(24*5):\n",
    "        ret, frame = video_capture.read()\n",
    "        if not ret:\n",
    "            break\n",
    "\n",
    "    # If there are no more frames, break out of the loop\n",
    "    if not ret:\n",
    "        break\n",
    "    \n",
    "    # Convert the frame to RGB color (face_recognition uses RGB)\n",
    "    gray = cv2.cvtColor(frame, cv2.COLOR_BGR2GRAY)\n",
    "    \n",
    "\n",
    "    # Find all the faces in the frame using a pre-trained convolutional neural network.\n",
    "    face_locations = face_recognition.face_locations(gray)\n",
    "    #face_locations = face_recognition.face_locations(gray, number_of_times_to_upsample=0, model=\"cnn\")\n",
    "\n",
    "    # Show the original frame with face rectangles drawn around the faces\n",
    "    for top, right, bottom, left in face_locations:\n",
    "        cv2.rectangle(frame, (left, top), (right, bottom), (0, 0, 255), 2)\n",
    "        face_image = gray[top:bottom, left:right]\n",
    "        output_path = os.path.join(output_dir, f\"face_{count}.jpg\")\n",
    "        cv2.imwrite(output_path, face_image)\n",
    "        count = count + 1\n",
    "        \n",
    "#     cv2.imshow('Video', frame)\n",
    "\n",
    "    # If the user presses the 'q' key, exit the loop\n",
    "    if cv2.waitKey(1) & 0xFF == ord('q'):\n",
    "        break\n",
    "\n",
    "# Release the video capture object and close all windows\n",
    "video_capture.release()\n",
    "cv2.destroyAllWindows()\n"
   ]
  },
  {
   "cell_type": "code",
   "execution_count": 8,
   "id": "80daad4c",
   "metadata": {},
   "outputs": [
    {
     "name": "stdout",
     "output_type": "stream",
     "text": [
      "Dr. Dre - Still D.R.E. ft. Snoop Dogg.mp4\n",
      "Dr. Dre - The Next Episode (Official Music Video) ft. Snoop Dogg_ Kurupt_ Nate Dogg.mp4\n",
      "Drake - Hotline Bling.mp4\n",
      "Murir Tin _ Coke Studio Bangla _ Season 2 _ Riad X Pollob X Towfique.mp4\n",
      "Pewdiepie Shouting Soyboy in Marzia_s Video.mp4\n",
      "The Notorious B.I.G. - Juicy (Official Video) _4K_.mp4\n",
      "The Weeknd - Starboy ft. Daft Punk (Official Video).mp4\n",
      "_______ 200 Megapixel _________ _____ ____ _.mp4\n"
     ]
    }
   ],
   "source": [
    "# Set the input and output directories\n",
    "input_dir = \"source_videos\"\n",
    "output_dir = \"face_images\"\n",
    "\n",
    "if not os.path.exists(output_dir):\n",
    "    os.makedirs(output_dir)\n",
    "\n",
    "count = 18746\n",
    "\n",
    "# Loop through all the files in the input directory\n",
    "for filename in os.listdir(input_dir):\n",
    "    if filename.endswith(\".mp4\"):\n",
    "        print(filename)\n",
    "        # Open the video file\n",
    "        video_path = os.path.join(input_dir, filename)\n",
    "        video_capture = cv2.VideoCapture(video_path)\n",
    "            \n",
    "        # Loop through the frames of the video\n",
    "        while True:\n",
    "            # Read a single frame from each second from the video\n",
    "            for i in range(24*30):\n",
    "                ret, frame = video_capture.read()\n",
    "                if not ret:\n",
    "                    break\n",
    "            \n",
    "            # If there are no more frames, break out of the loop\n",
    "            if not ret:\n",
    "                break\n",
    "\n",
    "            # Convert the frame to RGB color (face_recognition uses RGB)\n",
    "#             gray = cv2.cvtColor(frame, cv2.COLOR_BGR2RGB)\n",
    "            gray = cv2.cvtColor(frame, cv2.COLOR_BGR2GRAY)\n",
    "\n",
    "            # Find all the faces in the frame using a pre-trained convolutional neural network.\n",
    "            face_locations = face_recognition.face_locations(gray)\n",
    "#             face_encodings = face_recognition.face_encodings(rgb, face_locations)\n",
    "\n",
    "            # Show the original frame with face rectangles drawn around the faces\n",
    "            for top, right, bottom, left in face_locations:\n",
    "                cv2.rectangle(frame, (left, top), (right, bottom), (0, 0, 255), 2)\n",
    "                face_image = gray[top:bottom, left:right]\n",
    "                output_path = os.path.join(output_dir, f\"face_{count}.jpg\")\n",
    "                cv2.imwrite(output_path, face_image)\n",
    "                count = count + 1\n",
    "\n",
    "                \n",
    "            cv2.imshow('Video', frame)\n",
    "\n",
    "            # If the user presses the 'q' key, exit the loop\n",
    "            if cv2.waitKey(1) & 0xFF == ord('q'):\n",
    "                break\n",
    "\n",
    "        # Release the video capture object\n",
    "        video_capture.release()\n",
    "\n",
    "# Close all windows\n",
    "cv2.destroyAllWindows()\n"
   ]
  },
  {
   "cell_type": "code",
   "execution_count": null,
   "id": "0d2a62d7",
   "metadata": {},
   "outputs": [],
   "source": []
  }
 ],
 "metadata": {
  "kernelspec": {
   "display_name": "Python 3 (ipykernel)",
   "language": "python",
   "name": "python3"
  },
  "language_info": {
   "codemirror_mode": {
    "name": "ipython",
    "version": 3
   },
   "file_extension": ".py",
   "mimetype": "text/x-python",
   "name": "python",
   "nbconvert_exporter": "python",
   "pygments_lexer": "ipython3",
   "version": "3.9.0"
  }
 },
 "nbformat": 4,
 "nbformat_minor": 5
}
